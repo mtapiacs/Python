{
 "cells": [
  {
   "cell_type": "code",
   "execution_count": 3,
   "metadata": {},
   "outputs": [],
   "source": [
    "import matplotlib.pyplot as plt"
   ]
  },
  {
   "cell_type": "code",
   "execution_count": 4,
   "metadata": {},
   "outputs": [
    {
     "name": "stdout",
     "output_type": "stream",
     "text": [
      "54666\n",
      "1120\n",
      "1019\n",
      "457\n"
     ]
    },
    {
     "data": {
      "image/png": "[encoded data removed]",
      "text/plain": [
       "<Figure size 432x288 with 1 Axes>"
      ]
     },
     "metadata": {
      "needs_background": "light"
     },
     "output_type": "display_data"
    },
    {
     "data": {
      "text/plain": [
       "<Figure size 432x288 with 0 Axes>"
      ]
     },
     "metadata": {},
     "output_type": "display_data"
    }
   ],
   "source": [
    "the = 0\n",
    "valjean = 0\n",
    "cosette = 0 \n",
    "javert = 0\n",
    "\n",
    "with open(\"./lesmis.txt\", \"r\") as txtfile:\n",
    "    newLesMis = txtfile.read().lower().split(\" \")\n",
    "    \n",
    "    les_mis_mirror = open(\"lesmismirror.txt\", \"w\")\n",
    "    \n",
    "    for item in newLesMis:\n",
    "        if \"valjean\" in item:\n",
    "            valjean += 1\n",
    "        elif \"cosette\" in item:\n",
    "            cosette += 1\n",
    "        elif \"javert\" in item:\n",
    "            javert += 1\n",
    "        elif \"the\" in item:\n",
    "            the += 1\n",
    "            \n",
    "    les_mis_mirror.close()\n",
    "    \n",
    "    print(the)\n",
    "    print(valjean)\n",
    "    print(cosette)\n",
    "    print(javert)\n",
    "    \n",
    "    plt.bar([\"The\", \"Valjean\", \"Cosette\", \"Javert\"],[the, valjean, cosette, javert])\n",
    "    plt.show()\n",
    "    plt.savefig(\"graphCharacters.jpg\")"
   ]
  },
  {
   "cell_type": "code",
   "execution_count": null,
   "metadata": {},
   "outputs": [],
   "source": []
  }
 ],
 "metadata": {
  "kernelspec": {
   "display_name": "Python 3",
   "language": "python",
   "name": "python3"
  },
  "language_info": {
   "codemirror_mode": {
    "name": "ipython",
    "version": 3
   },
   "file_extension": ".py",
   "mimetype": "text/x-python",
   "name": "python",
   "nbconvert_exporter": "python",
   "pygments_lexer": "ipython3",
   "version": "3.7.3"
  }
 },
 "nbformat": 4,
 "nbformat_minor": 2
}
